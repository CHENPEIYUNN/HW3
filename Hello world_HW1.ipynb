{
  "nbformat": 4,
  "nbformat_minor": 0,
  "metadata": {
    "colab": {
      "provenance": []
    },
    "kernelspec": {
      "name": "python3",
      "display_name": "Python 3"
    },
    "language_info": {
      "name": "python"
    }
  },
  "cells": [
    {
      "cell_type": "code",
      "execution_count": null,
      "metadata": {
        "colab": {
          "base_uri": "https://localhost:8080/"
        },
        "id": "kQdJNqc1fFx6",
        "outputId": "1de97212-6590-4df4-f3b5-8c5c794d7930"
      },
      "outputs": [
        {
          "output_type": "stream",
          "name": "stdout",
          "text": [
            "Hello world! I am Kiki Chen! (*^_^*)\n"
          ]
        }
      ],
      "source": [
        "x = 'Hello world! I am Kiki Chen! (*^_^*)'\n",
        "print(x)"
      ]
    },
    {
      "cell_type": "markdown",
      "source": [
        "\n",
        "在今天的實作中,有別於學c++時需要輸入include等指令，使用colab只需要很直觀的print就好，果然如同老師說的較易學習。"
      ],
      "metadata": {
        "id": "6N5DdcSrgAse"
      }
    }
  ]
}